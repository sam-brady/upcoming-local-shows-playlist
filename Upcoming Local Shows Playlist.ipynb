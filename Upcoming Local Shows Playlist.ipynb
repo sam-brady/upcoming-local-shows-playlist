{
 "cells": [
  {
   "cell_type": "code",
   "execution_count": null,
   "metadata": {},
   "outputs": [],
   "source": []
  },
  {
   "cell_type": "code",
   "execution_count": 21,
   "metadata": {},
   "outputs": [],
   "source": [
    "import pandas as pd\n",
    "import numpy as np\n",
    "\n",
    "\n",
    "import requests\n",
    "import urllib.request\n",
    "import time\n",
    "from bs4 import BeautifulSoup\n",
    "\n",
    "import re\n",
    "\n",
    "import spotipy\n",
    "\n",
    "import spotipy.util as util\n",
    "\n",
    "from fuzzywuzzy import fuzz"
   ]
  },
  {
   "cell_type": "code",
   "execution_count": 22,
   "metadata": {},
   "outputs": [],
   "source": [
    "# enter website info\n",
    "\n",
    "url = 'https://www.bandsintown.com'\n",
    "\n",
    "response = requests.get(url)"
   ]
  },
  {
   "cell_type": "code",
   "execution_count": 23,
   "metadata": {},
   "outputs": [
    {
     "data": {
      "text/plain": [
       "<Response [200]>"
      ]
     },
     "execution_count": 23,
     "metadata": {},
     "output_type": "execute_result"
    }
   ],
   "source": [
    "# check to see if we have soup...  ('200' means that we have a valid connection)\n",
    "\n",
    "response"
   ]
  },
  {
   "cell_type": "code",
   "execution_count": 24,
   "metadata": {},
   "outputs": [],
   "source": [
    "# start the soup\n",
    "\n",
    "soup = BeautifulSoup(response.text, 'html.parser')"
   ]
  },
  {
   "cell_type": "code",
   "execution_count": 25,
   "metadata": {
    "scrolled": true
   },
   "outputs": [
    {
     "data": {
      "text/plain": [
       "[<a class=\"_1c0VJLyfwWzjJfOHu6eP_U\" href=\"https://www.bandsintown.com/?came_from=257\"><img alt=\"Bandsintown Fist\" src=\"https://assets.bandsintown.com/images/bitFist.svg\"/><img alt=\"Bandsintown Text\" class=\"_1EY9FymTCu4aZ1GqRcBdh2\" src=\"https://assets.bandsintown.com/images/bitText.svg\"/></a>,\n",
       " <a class=\"_1ig2tgu-gwv3YNa5JaLJyj\"><div class=\"_1L7wm0rQie9wLuUaXd38C7\"><img alt=\"Phone icon\" src=\"https://assets.bandsintown.com/images/blackPhone.svg\"/></div><div class=\"_1EpztBXJ4yePIdqCEbohk1\">Get App</div></a>,\n",
       " <a href=\"https://manager.bandsintown.com\">Artists &amp; Venues</a>,\n",
       " <a href=\"https://promoters.bandsintown.com\">Promoters</a>,\n",
       " <a href=\"https://help.bandsintown.com\">Help</a>,\n",
       " <a href=\"https://corp.bandsintown.com/privacy\">Privacy</a>,\n",
       " <a class=\"_1-03HGg4F65cN9_ILhg4yX\" href=\"https://corp.bandsintown.com/terms\">Terms</a>,\n",
       " <a href=\"https://help.bandsintown.com/\">Help Center</a>,\n",
       " <a class=\"_3DfSNPsAeJTWxgocTU6DpT\" href=\"https://www.bandsintown.com/?came_from=257&amp;livestream=true\">View All<img alt=\"\" class=\"_2F18T8QQsEo2mqn7vj0Ama\" src=\"https://assets.bandsintown.com/images/tealChevronRight.svg\"/></a>,\n",
       " <a class=\"CzZVhCTK9G6w8UycacMRu\" href=\"https://www.bandsintown.com/e/102223745-nina-west-at-live-stream?came_from=257&amp;utm_medium=web&amp;utm_source=home&amp;utm_campaign=top_event\"></a>,\n",
       " <a href=\"https://www.bandsintown.com/a/5410424-nina-west?came_from=257&amp;utm_medium=web&amp;utm_source=home&amp;utm_campaign=top_event\">Nina West</a>,\n",
       " <a class=\"CzZVhCTK9G6w8UycacMRu\" href=\"https://www.bandsintown.com/e/102224030-francesco-gabbani-espana-at-live-stream?came_from=257&amp;utm_medium=web&amp;utm_source=home&amp;utm_campaign=top_event\"></a>,\n",
       " <a href=\"https://www.bandsintown.com/a/15120675-francesco-gabbani-espana?came_from=257&amp;utm_medium=web&amp;utm_source=home&amp;utm_campaign=top_event\">Francesco Gabbani España</a>,\n",
       " <a class=\"CzZVhCTK9G6w8UycacMRu\" href=\"https://www.bandsintown.com/e/102223290-new-hope-club-at-live-stream?came_from=257&amp;utm_medium=web&amp;utm_source=home&amp;utm_campaign=top_event\"></a>,\n",
       " <a href=\"https://www.bandsintown.com/a/12720706-new-hope-club?came_from=257&amp;utm_medium=web&amp;utm_source=home&amp;utm_campaign=top_event\">New Hope Club</a>,\n",
       " <a class=\"CzZVhCTK9G6w8UycacMRu\" href=\"https://www.bandsintown.com/e/102221071-greg-spero-at-live-stream?came_from=257&amp;utm_medium=web&amp;utm_source=home&amp;utm_campaign=top_event\"></a>,\n",
       " <a href=\"https://www.bandsintown.com/a/319445-greg-spero?came_from=257&amp;utm_medium=web&amp;utm_source=home&amp;utm_campaign=top_event\">Greg Spero</a>,\n",
       " <a class=\"CzZVhCTK9G6w8UycacMRu\" href=\"https://www.bandsintown.com/e/102221543-dana-rexx-at-live-stream?came_from=257&amp;utm_medium=web&amp;utm_source=home&amp;utm_campaign=top_event\"></a>,\n",
       " <a href=\"https://www.bandsintown.com/a/14989658-dana-rexx?came_from=257&amp;utm_medium=web&amp;utm_source=home&amp;utm_campaign=top_event\">Dana Rexx</a>,\n",
       " <a class=\"CzZVhCTK9G6w8UycacMRu\" href=\"https://www.bandsintown.com/e/102220677-bluetech-at-live-stream?came_from=257&amp;utm_medium=web&amp;utm_source=home&amp;utm_campaign=top_event\"></a>,\n",
       " <a href=\"https://www.bandsintown.com/a/18155-bluetech?came_from=257&amp;utm_medium=web&amp;utm_source=home&amp;utm_campaign=top_event\">Bluetech</a>,\n",
       " <a class=\"CzZVhCTK9G6w8UycacMRu\" href=\"https://www.bandsintown.com/e/102223939-melt-yourself-down-at-live-stream?came_from=257&amp;utm_medium=web&amp;utm_source=home&amp;utm_campaign=top_event\"></a>,\n",
       " <a href=\"https://www.bandsintown.com/a/4749724-melt-yourself-down?came_from=257&amp;utm_medium=web&amp;utm_source=home&amp;utm_campaign=top_event\">Melt Yourself Down</a>,\n",
       " <a class=\"CzZVhCTK9G6w8UycacMRu\" href=\"https://www.bandsintown.com/e/102223058-brooklyn-doran-music-at-live-stream?came_from=257&amp;utm_medium=web&amp;utm_source=home&amp;utm_campaign=top_event\"></a>,\n",
       " <a href=\"https://www.bandsintown.com/a/6508212-brooklyn-doran-music?came_from=257&amp;utm_medium=web&amp;utm_source=home&amp;utm_campaign=top_event\">Brooklyn Doran Music</a>,\n",
       " <a class=\"CzZVhCTK9G6w8UycacMRu\" href=\"https://www.bandsintown.com/e/102217724-david-james-(djr)-at-live-stream?came_from=257&amp;utm_medium=web&amp;utm_source=home&amp;utm_campaign=top_event\"></a>,\n",
       " <a href=\"https://www.bandsintown.com/a/15395841-david-james-(djr)?came_from=257&amp;utm_medium=web&amp;utm_source=home&amp;utm_campaign=top_event\">David James (DJR)</a>,\n",
       " <a class=\"CzZVhCTK9G6w8UycacMRu\" href=\"https://www.bandsintown.com/e/102222625-rae-isla-at-live-stream?came_from=257&amp;utm_medium=web&amp;utm_source=home&amp;utm_campaign=top_event\"></a>,\n",
       " <a href=\"https://www.bandsintown.com/a/14826672-rae-isla?came_from=257&amp;utm_medium=web&amp;utm_source=home&amp;utm_campaign=top_event\">Rae Isla</a>,\n",
       " <a class=\"CzZVhCTK9G6w8UycacMRu\" href=\"https://www.bandsintown.com/e/102222744-benny-benassi-at-live-stream?came_from=257&amp;utm_medium=web&amp;utm_source=home&amp;utm_campaign=top_event\"></a>,\n",
       " <a href=\"https://www.bandsintown.com/a/653-benny-benassi?came_from=257&amp;utm_medium=web&amp;utm_source=home&amp;utm_campaign=top_event\">Benny Benassi</a>,\n",
       " <a class=\"CzZVhCTK9G6w8UycacMRu\" href=\"https://www.bandsintown.com/e/102224105-the-accidentals-at-live-stream?came_from=257&amp;utm_medium=web&amp;utm_source=home&amp;utm_campaign=top_event\"></a>,\n",
       " <a href=\"https://www.bandsintown.com/a/490931-the-accidentals?came_from=257&amp;utm_medium=web&amp;utm_source=home&amp;utm_campaign=top_event\">The Accidentals</a>,\n",
       " <a class=\"CzZVhCTK9G6w8UycacMRu\" href=\"https://www.bandsintown.com/e/102222241-zoe-konez-at-live-stream?came_from=257&amp;utm_medium=web&amp;utm_source=home&amp;utm_campaign=top_event\"></a>,\n",
       " <a href=\"https://www.bandsintown.com/a/1254349-zoe-konez?came_from=257&amp;utm_medium=web&amp;utm_source=home&amp;utm_campaign=top_event\">Zoe Konez</a>,\n",
       " <a class=\"CzZVhCTK9G6w8UycacMRu\" href=\"https://www.bandsintown.com/e/102223092-chip-richter-at-live-stream?came_from=257&amp;utm_medium=web&amp;utm_source=home&amp;utm_campaign=top_event\"></a>,\n",
       " <a href=\"https://www.bandsintown.com/a/315944-chip-richter?came_from=257&amp;utm_medium=web&amp;utm_source=home&amp;utm_campaign=top_event\">Chip Richter</a>,\n",
       " <a class=\"CzZVhCTK9G6w8UycacMRu\" href=\"https://www.bandsintown.com/e/102083475-camilo-franco-at-live-stream?came_from=257&amp;utm_medium=web&amp;utm_source=home&amp;utm_campaign=top_event\"></a>,\n",
       " <a href=\"https://www.bandsintown.com/a/568495-camilo-franco?came_from=257&amp;utm_medium=web&amp;utm_source=home&amp;utm_campaign=top_event\">Camilo Franco</a>,\n",
       " <a class=\"CzZVhCTK9G6w8UycacMRu\" href=\"https://www.bandsintown.com/e/102216114-bill-harley-at-live-stream?came_from=257&amp;utm_medium=web&amp;utm_source=home&amp;utm_campaign=top_event\"></a>,\n",
       " <a href=\"https://www.bandsintown.com/a/184741-bill-harley?came_from=257&amp;utm_medium=web&amp;utm_source=home&amp;utm_campaign=top_event\">Bill Harley</a>,\n",
       " <a class=\"_3KEkdf7zDGpfxIe2prFkez\" href=\"https://www.bandsintown.com/?came_from=257&amp;livestream=true\"><div class=\"_oWQHtUqybnTKHZt0w3bD\"><img alt=\"\" class=\"_38_ASsvHVeag95LyYhTIlE\" src=\"https://assets.bandsintown.com/images/tealChevronRight.svg\"/></div><div class=\"_2fB_IBEiFL6eYs7YbH5ED5\">View All</div></a>,\n",
       " <a class=\"_24TM0E4LHDRL04qPOQ3db\" href=\"https://news.bandsintown.com/?came_from=257\">View All<img alt=\"\" class=\"jfiJzJ_EGguYIVnj2CaWm\" src=\"https://assets.bandsintown.com/images/tealChevronRight.svg\"/></a>,\n",
       " <a class=\"_3axeHor31KYB1q7nr3lqZs\" href=\"https://news.bandsintown.com/article/2020-03-31-bandsintown-live-x-mixmash-records-quarantine-livestream-in-collaboration-with-laidback-luke/?came_from=257&amp;utm_medium=web&amp;utm_source=home&amp;utm_campaign=actu\"><div class=\"_29gxtn9Y3hdy6q6iBaKjU_\"><div class=\"LazyLoad\" style=\"height:151px\"></div></div><div class=\"_2nvhdl3ygQ3lyzoZzRo4iw\">Bandsintown LIVE x Mixmash Records: Quarantine Livestream in Collaboration with Laidback Luke</div></a>,\n",
       " <a class=\"_3axeHor31KYB1q7nr3lqZs\" href=\"https://news.bandsintown.com/article/2020-03-27-emma-gatsbys-quarantine-playlist/?came_from=257&amp;utm_medium=web&amp;utm_source=home&amp;utm_campaign=actu\"><div class=\"_29gxtn9Y3hdy6q6iBaKjU_\"><div class=\"LazyLoad\" style=\"height:151px\"></div></div><div class=\"_2nvhdl3ygQ3lyzoZzRo4iw\">Quarantine Playlist: Emma Gatsby Shares Her Roaring 2020s Favorites</div></a>,\n",
       " <a class=\"_3axeHor31KYB1q7nr3lqZs\" href=\"https://news.bandsintown.com/article/2020-03-25-bandsintown-presents-its-first-live-music-marathon-via-new-twitch-channel/?came_from=257&amp;utm_medium=web&amp;utm_source=home&amp;utm_campaign=actu\"><div class=\"_29gxtn9Y3hdy6q6iBaKjU_\"><div class=\"LazyLoad\" style=\"height:151px\"></div></div><div class=\"_2nvhdl3ygQ3lyzoZzRo4iw\">Bandsintown Presents its first LIVE Music Marathon via new Twitch Channel</div></a>,\n",
       " <a class=\"_3axeHor31KYB1q7nr3lqZs\" href=\"https://news.bandsintown.com/article/2020-03-24-adrian-jean-to-drop-new-album-forever-today-on-march-27th/?came_from=257&amp;utm_medium=web&amp;utm_source=home&amp;utm_campaign=actu\"><div class=\"_29gxtn9Y3hdy6q6iBaKjU_\"><div class=\"LazyLoad\" style=\"height:151px\"></div></div><div class=\"_2nvhdl3ygQ3lyzoZzRo4iw\">Adrian Jean To Drop New Album, Forever Today, on March 27th! </div></a>,\n",
       " <a class=\"_3axeHor31KYB1q7nr3lqZs\" href=\"https://news.bandsintown.com/article/2020-03-23-best-live-stream-concert-calendar-from-bandsintown/?came_from=257&amp;utm_medium=web&amp;utm_source=home&amp;utm_campaign=actu\"><div class=\"_29gxtn9Y3hdy6q6iBaKjU_\"><div class=\"LazyLoad\" style=\"height:151px\"></div></div><div class=\"_2nvhdl3ygQ3lyzoZzRo4iw\">Best Live Stream Concert Calendar from Bandsintown</div></a>,\n",
       " <a class=\"_3axeHor31KYB1q7nr3lqZs\" href=\"https://news.bandsintown.com/article/2020-03-21-dont-miss-the-bandsintown-live-music-marathon-next-week/?came_from=257&amp;utm_medium=web&amp;utm_source=home&amp;utm_campaign=actu\"><div class=\"_29gxtn9Y3hdy6q6iBaKjU_\"><div class=\"LazyLoad\" style=\"height:151px\"></div></div><div class=\"_2nvhdl3ygQ3lyzoZzRo4iw\">Don't Miss The Bandsintown LIVE Music Marathon This Week</div></a>,\n",
       " <a class=\"_3axeHor31KYB1q7nr3lqZs\" href=\"https://news.bandsintown.com/article/2020-03-19-black-coffee-to-headline-first-ever-bandsintown-live/?came_from=257&amp;utm_medium=web&amp;utm_source=home&amp;utm_campaign=actu\"><div class=\"_29gxtn9Y3hdy6q6iBaKjU_\"><div class=\"LazyLoad\" style=\"height:151px\"></div></div><div class=\"_2nvhdl3ygQ3lyzoZzRo4iw\">Black Coffee to Headline First-Ever Bandsintown Live </div></a>,\n",
       " <a class=\"_3axeHor31KYB1q7nr3lqZs\" href=\"https://news.bandsintown.com/article/2020-03-19-high-waisted-gives-us-“drive”-the-new-single-we-need-right-now/?came_from=257&amp;utm_medium=web&amp;utm_source=home&amp;utm_campaign=actu\"><div class=\"_29gxtn9Y3hdy6q6iBaKjU_\"><div class=\"LazyLoad\" style=\"height:151px\"></div></div><div class=\"_2nvhdl3ygQ3lyzoZzRo4iw\">Premiere: High Waisted Give Us “Drive”, the New Single We Need Right Now</div></a>,\n",
       " <a class=\"_3axeHor31KYB1q7nr3lqZs\" href=\"https://news.bandsintown.com/article/2020-03-18-to-our-bandsintown-community-we-will-get-through-this-together/?came_from=257&amp;utm_medium=web&amp;utm_source=home&amp;utm_campaign=actu\"><div class=\"_29gxtn9Y3hdy6q6iBaKjU_\"><div class=\"LazyLoad\" style=\"height:151px\"></div></div><div class=\"_2nvhdl3ygQ3lyzoZzRo4iw\">To Our Bandsintown Community, We Will Get Through This Together</div></a>,\n",
       " <a class=\"_3axeHor31KYB1q7nr3lqZs\" href=\"https://news.bandsintown.com/article/2020-03-18-5-ways-that-fans-can-support-musicians-in-these-difficult-times/?came_from=257&amp;utm_medium=web&amp;utm_source=home&amp;utm_campaign=actu\"><div class=\"_29gxtn9Y3hdy6q6iBaKjU_\"><div class=\"LazyLoad\" style=\"height:151px\"></div></div><div class=\"_2nvhdl3ygQ3lyzoZzRo4iw\">5 Ways That Fans Can Support Musicians In These Difficult Times</div></a>,\n",
       " <a class=\"_3axeHor31KYB1q7nr3lqZs\" href=\"https://news.bandsintown.com/article/2020-03-11-the-blue-stones-toss-us-their-tour-bus-playlist/?came_from=257&amp;utm_medium=web&amp;utm_source=home&amp;utm_campaign=actu\"><div class=\"_29gxtn9Y3hdy6q6iBaKjU_\"><div class=\"LazyLoad\" style=\"height:151px\"></div></div><div class=\"_2nvhdl3ygQ3lyzoZzRo4iw\">Playlist: Check Out What The Blue Stones Are Listening To Right Now</div></a>,\n",
       " <a class=\"_3axeHor31KYB1q7nr3lqZs\" href=\"https://news.bandsintown.com/article/2020-03-04-tour-diary-andy-frasco-brings-forth-positivity-on-the-road/?came_from=257&amp;utm_medium=web&amp;utm_source=home&amp;utm_campaign=actu\"><div class=\"_29gxtn9Y3hdy6q6iBaKjU_\"><div class=\"LazyLoad\" style=\"height:151px\"></div></div><div class=\"_2nvhdl3ygQ3lyzoZzRo4iw\">Tour Diary: Andy Frasco Brings Forth Positivity on the Road</div></a>,\n",
       " <a class=\"_3axeHor31KYB1q7nr3lqZs\" href=\"https://news.bandsintown.com/article/2020-03-04-gallery-innings-festival-featuring-dave-matthews-band-portugal-the-man/?came_from=257&amp;utm_medium=web&amp;utm_source=home&amp;utm_campaign=actu\"><div class=\"_29gxtn9Y3hdy6q6iBaKjU_\"><div class=\"LazyLoad\" style=\"height:151px\"></div></div><div class=\"_2nvhdl3ygQ3lyzoZzRo4iw\">Gallery: Innings Festival Featuring Dave Matthews Band, Weezer, Portugal. the Man</div></a>,\n",
       " <a class=\"_3axeHor31KYB1q7nr3lqZs\" href=\"https://news.bandsintown.com/article/2020-02-26-bandsintown-big-break-watch-closely-as-99-neighbors-explodes-rap’s-dimensions/?came_from=257&amp;utm_medium=web&amp;utm_source=home&amp;utm_campaign=actu\"><div class=\"_29gxtn9Y3hdy6q6iBaKjU_\"><div class=\"LazyLoad\" style=\"height:151px\"></div></div><div class=\"_2nvhdl3ygQ3lyzoZzRo4iw\">Bandsintown Big Break: Watch Closely as 99 Neighbors Explodes Rap’s Dimensions</div></a>,\n",
       " <a class=\"_3axeHor31KYB1q7nr3lqZs\" href=\"https://news.bandsintown.com/article/2020-02-27-franc-moody-stay-true-to-funk-roots-in-tour-playlist/?came_from=257&amp;utm_medium=web&amp;utm_source=home&amp;utm_campaign=actu\"><div class=\"_29gxtn9Y3hdy6q6iBaKjU_\"><div class=\"LazyLoad\" style=\"height:151px\"></div></div><div class=\"_2nvhdl3ygQ3lyzoZzRo4iw\"> Franc Moody Stay True to Funk Roots in Tour Playlist</div></a>,\n",
       " <a class=\"_3q0yghM84-1RAdzDoO-AOi\" href=\"https://news.bandsintown.com/?came_from=257\"><div class=\"_1POk6mIG4AG5owjU9UfMyb\"><img alt=\"\" class=\"_2dJKAUfJXRYGoYykws-bhY\" src=\"https://assets.bandsintown.com/images/tealChevronRight.svg\"/></div><div class=\"_3umnpmp3r3_Kgy2oE6IDi3\">View All</div></a>,\n",
       " <a class=\"_208Gq9mU8kXu2PRWn0Jhnd\" href=\"https://www.bandsintown.com/?came_from=257&amp;genre_filter=Rock&amp;utm_medium=web&amp;utm_source=home&amp;utm_campaign=event_genre_list\">Rock</a>,\n",
       " <a class=\"_208Gq9mU8kXu2PRWn0Jhnd\" href=\"https://www.bandsintown.com/?came_from=257&amp;genre_filter=Electronic&amp;utm_medium=web&amp;utm_source=home&amp;utm_campaign=event_genre_list\">Electronic</a>,\n",
       " <a class=\"_208Gq9mU8kXu2PRWn0Jhnd\" href=\"https://www.bandsintown.com/?came_from=257&amp;genre_filter=Pop&amp;utm_medium=web&amp;utm_source=home&amp;utm_campaign=event_genre_list\">Pop</a>,\n",
       " <a class=\"_208Gq9mU8kXu2PRWn0Jhnd\" href=\"https://www.bandsintown.com/?came_from=257&amp;genre_filter=Alternative&amp;utm_medium=web&amp;utm_source=home&amp;utm_campaign=event_genre_list\">Alternative</a>,\n",
       " <a class=\"_208Gq9mU8kXu2PRWn0Jhnd\" href=\"https://www.bandsintown.com/?came_from=257&amp;genre_filter=Folk&amp;utm_medium=web&amp;utm_source=home&amp;utm_campaign=event_genre_list\">Folk</a>,\n",
       " <a class=\"_208Gq9mU8kXu2PRWn0Jhnd\" href=\"https://www.bandsintown.com/?came_from=257&amp;genre_filter=Hip+Hop&amp;utm_medium=web&amp;utm_source=home&amp;utm_campaign=event_genre_list\">Hip Hop</a>,\n",
       " <a class=\"_208Gq9mU8kXu2PRWn0Jhnd\" href=\"https://www.bandsintown.com/?came_from=257&amp;genre_filter=Punk&amp;utm_medium=web&amp;utm_source=home&amp;utm_campaign=event_genre_list\">Punk</a>,\n",
       " <a class=\"_208Gq9mU8kXu2PRWn0Jhnd\" href=\"https://www.bandsintown.com/?came_from=257&amp;genre_filter=R%26B%2FSoul&amp;utm_medium=web&amp;utm_source=home&amp;utm_campaign=event_genre_list\">R&amp;B/Soul</a>,\n",
       " <a class=\"_208Gq9mU8kXu2PRWn0Jhnd\" href=\"https://www.bandsintown.com/?came_from=257&amp;genre_filter=Country&amp;utm_medium=web&amp;utm_source=home&amp;utm_campaign=event_genre_list\">Country</a>,\n",
       " <a class=\"_208Gq9mU8kXu2PRWn0Jhnd\" href=\"https://www.bandsintown.com/?came_from=257&amp;genre_filter=Jazz&amp;utm_medium=web&amp;utm_source=home&amp;utm_campaign=event_genre_list\">Jazz</a>,\n",
       " <a class=\"_208Gq9mU8kXu2PRWn0Jhnd\" href=\"https://www.bandsintown.com/?came_from=257&amp;genre_filter=Reggae&amp;utm_medium=web&amp;utm_source=home&amp;utm_campaign=event_genre_list\">Reggae</a>,\n",
       " <a class=\"_208Gq9mU8kXu2PRWn0Jhnd\" href=\"https://www.bandsintown.com/?came_from=257&amp;genre_filter=Blues&amp;utm_medium=web&amp;utm_source=home&amp;utm_campaign=event_genre_list\">Blues</a>,\n",
       " <a class=\"_208Gq9mU8kXu2PRWn0Jhnd\" href=\"https://www.bandsintown.com/?came_from=257&amp;genre_filter=Metal&amp;utm_medium=web&amp;utm_source=home&amp;utm_campaign=event_genre_list\">Metal</a>,\n",
       " <a class=\"_208Gq9mU8kXu2PRWn0Jhnd\" href=\"https://www.bandsintown.com/?came_from=257&amp;genre_filter=Latin&amp;utm_medium=web&amp;utm_source=home&amp;utm_campaign=event_genre_list\">Latin</a>,\n",
       " <a class=\"_208Gq9mU8kXu2PRWn0Jhnd\" href=\"https://www.bandsintown.com/?came_from=257&amp;genre_filter=Christian%2FGospel&amp;utm_medium=web&amp;utm_source=home&amp;utm_campaign=event_genre_list\">Christian/Gospel</a>,\n",
       " <a class=\"_208Gq9mU8kXu2PRWn0Jhnd\" href=\"https://www.bandsintown.com/?came_from=257&amp;genre_filter=Classical&amp;utm_medium=web&amp;utm_source=home&amp;utm_campaign=event_genre_list\">Classical</a>,\n",
       " <a class=\"_2DLmkazakoqsrtKm1TkBRQ\" href=\"https://itunes.apple.com/app/apple-store/id471394851?ls=1&amp;mt=8&amp;at=1000lwu3&amp;pt=275672&amp;ct=257\"><img alt=\"Download the Bandsintown Concerts App for iOS at the Apple App Store\" src=\"https://assets.bandsintown.com/images/appStoreBadge.svg\"/></a>,\n",
       " <a class=\"_2_CeFcp78ZJ-DFRihq2ziX\" href=\"https://play.google.com/store/apps/details?id=com.bandsintown&amp;referrer=utm_source%3D234%26utm_medium%3Dphone%26utm_campaign%3DEditorial\"><img alt=\"Download the Bandsintown Concerts App for Android at the Google Play Store\" src=\"https://assets.bandsintown.com/images/googlePlayStoreBadge.svg\"/></a>,\n",
       " <a class=\"Tr848QsnE1ifJ_83HPY5\" href=\"https://www.bandsintown.com/\"><div class=\"qaSVS2ZsmRqVPMy1MMGlT\"><img alt=\"\" src=\"https://assets.bandsintown.com/images/radioChecked.svg\"/></div><div class=\"hF4yB1D61JB24TvKTkk3_\">All Dates</div></a>,\n",
       " <a class=\"Tr848QsnE1ifJ_83HPY5\" href=\"https://www.bandsintown.com/?date=2020-04-09T14%3A00%3A00%2C2020-04-10T01%3A59%3A59&amp;date_filter=Tonight\"><div class=\"qaSVS2ZsmRqVPMy1MMGlT\"><img alt=\"\" src=\"https://assets.bandsintown.com/images/radioUnchecked.svg\"/></div><div class=\"hF4yB1D61JB24TvKTkk3_\">Tonight</div></a>,\n",
       " <a class=\"Tr848QsnE1ifJ_83HPY5\" href=\"https://www.bandsintown.com/?date=2020-04-10T14%3A00%3A00%2C2020-04-11T01%3A59%3A59&amp;date_filter=Tomorrow\"><div class=\"qaSVS2ZsmRqVPMy1MMGlT\"><img alt=\"\" src=\"https://assets.bandsintown.com/images/radioUnchecked.svg\"/></div><div class=\"hF4yB1D61JB24TvKTkk3_\">Tomorrow</div></a>,\n",
       " <a class=\"Tr848QsnE1ifJ_83HPY5\" href=\"https://www.bandsintown.com/?date=2020-04-10T14%3A00%3A00%2C2020-04-13T02%3A00%3A00&amp;date_filter=This+Weekend\"><div class=\"qaSVS2ZsmRqVPMy1MMGlT\"><img alt=\"\" src=\"https://assets.bandsintown.com/images/radioUnchecked.svg\"/></div><div class=\"hF4yB1D61JB24TvKTkk3_\">This Weekend</div></a>,\n",
       " <a class=\"Tr848QsnE1ifJ_83HPY5\" href=\"https://www.bandsintown.com/?date=2020-04-13T14%3A00%3A00%2C2020-04-20T02%3A00%3A00&amp;date_filter=Next+Week\"><div class=\"qaSVS2ZsmRqVPMy1MMGlT\"><img alt=\"\" src=\"https://assets.bandsintown.com/images/radioUnchecked.svg\"/></div><div class=\"hF4yB1D61JB24TvKTkk3_\">Next Week</div></a>,\n",
       " <a class=\"Tr848QsnE1ifJ_83HPY5\" href=\"https://www.bandsintown.com/?date=2020-05-01T14%3A00%3A00%2C2020-06-01T02%3A00%3A00&amp;date_filter=Next+Month\"><div class=\"qaSVS2ZsmRqVPMy1MMGlT\"><img alt=\"\" src=\"https://assets.bandsintown.com/images/radioUnchecked.svg\"/></div><div class=\"hF4yB1D61JB24TvKTkk3_\">Next Month</div></a>,\n",
       " <a class=\"_1oxPWjDV0hUKMX2TMQuUDC\" href=\"https://www.bandsintown.com/\"><div class=\"bCVP2tiWtU3PfY8pM8IDL\"><img alt=\"\" src=\"https://assets.bandsintown.com/images/radioChecked.svg\"/></div><div class=\"_18w8ToBS0GLecwf2qrsbSx\">All Genres</div></a>,\n",
       " <a class=\"_1oxPWjDV0hUKMX2TMQuUDC\" href=\"https://www.bandsintown.com/?genre_filter=Alternative\"><div class=\"bCVP2tiWtU3PfY8pM8IDL\"><img alt=\"\" src=\"https://assets.bandsintown.com/images/radioUnchecked.svg\"/></div><div class=\"_18w8ToBS0GLecwf2qrsbSx\">Alternative</div></a>,\n",
       " <a class=\"_1oxPWjDV0hUKMX2TMQuUDC\" href=\"https://www.bandsintown.com/?genre_filter=Blues\"><div class=\"bCVP2tiWtU3PfY8pM8IDL\"><img alt=\"\" src=\"https://assets.bandsintown.com/images/radioUnchecked.svg\"/></div><div class=\"_18w8ToBS0GLecwf2qrsbSx\">Blues</div></a>,\n",
       " <a class=\"_1oxPWjDV0hUKMX2TMQuUDC\" href=\"https://www.bandsintown.com/?genre_filter=Christian%2FGospel\"><div class=\"bCVP2tiWtU3PfY8pM8IDL\"><img alt=\"\" src=\"https://assets.bandsintown.com/images/radioUnchecked.svg\"/></div><div class=\"_18w8ToBS0GLecwf2qrsbSx\">Christian/Gospel</div></a>,\n",
       " <a class=\"_1oxPWjDV0hUKMX2TMQuUDC\" href=\"https://www.bandsintown.com/?genre_filter=Classical\"><div class=\"bCVP2tiWtU3PfY8pM8IDL\"><img alt=\"\" src=\"https://assets.bandsintown.com/images/radioUnchecked.svg\"/></div><div class=\"_18w8ToBS0GLecwf2qrsbSx\">Classical</div></a>,\n",
       " <a class=\"_1oxPWjDV0hUKMX2TMQuUDC\" href=\"https://www.bandsintown.com/?genre_filter=Country\"><div class=\"bCVP2tiWtU3PfY8pM8IDL\"><img alt=\"\" src=\"https://assets.bandsintown.com/images/radioUnchecked.svg\"/></div><div class=\"_18w8ToBS0GLecwf2qrsbSx\">Country</div></a>,\n",
       " <a class=\"_1oxPWjDV0hUKMX2TMQuUDC\" href=\"https://www.bandsintown.com/?genre_filter=Electronic\"><div class=\"bCVP2tiWtU3PfY8pM8IDL\"><img alt=\"\" src=\"https://assets.bandsintown.com/images/radioUnchecked.svg\"/></div><div class=\"_18w8ToBS0GLecwf2qrsbSx\">Electronic</div></a>,\n",
       " <a class=\"_1oxPWjDV0hUKMX2TMQuUDC\" href=\"https://www.bandsintown.com/?genre_filter=Folk\"><div class=\"bCVP2tiWtU3PfY8pM8IDL\"><img alt=\"\" src=\"https://assets.bandsintown.com/images/radioUnchecked.svg\"/></div><div class=\"_18w8ToBS0GLecwf2qrsbSx\">Folk</div></a>,\n",
       " <a class=\"_1oxPWjDV0hUKMX2TMQuUDC\" href=\"https://www.bandsintown.com/?genre_filter=Hip+Hop\"><div class=\"bCVP2tiWtU3PfY8pM8IDL\"><img alt=\"\" src=\"https://assets.bandsintown.com/images/radioUnchecked.svg\"/></div><div class=\"_18w8ToBS0GLecwf2qrsbSx\">Hip Hop</div></a>,\n",
       " <a class=\"_1oxPWjDV0hUKMX2TMQuUDC\" href=\"https://www.bandsintown.com/?genre_filter=Jazz\"><div class=\"bCVP2tiWtU3PfY8pM8IDL\"><img alt=\"\" src=\"https://assets.bandsintown.com/images/radioUnchecked.svg\"/></div><div class=\"_18w8ToBS0GLecwf2qrsbSx\">Jazz</div></a>,\n",
       " <a class=\"_1oxPWjDV0hUKMX2TMQuUDC\" href=\"https://www.bandsintown.com/?genre_filter=Latin\"><div class=\"bCVP2tiWtU3PfY8pM8IDL\"><img alt=\"\" src=\"https://assets.bandsintown.com/images/radioUnchecked.svg\"/></div><div class=\"_18w8ToBS0GLecwf2qrsbSx\">Latin</div></a>,\n",
       " <a class=\"_1oxPWjDV0hUKMX2TMQuUDC\" href=\"https://www.bandsintown.com/?genre_filter=Metal\"><div class=\"bCVP2tiWtU3PfY8pM8IDL\"><img alt=\"\" src=\"https://assets.bandsintown.com/images/radioUnchecked.svg\"/></div><div class=\"_18w8ToBS0GLecwf2qrsbSx\">Metal</div></a>,\n",
       " <a class=\"_1oxPWjDV0hUKMX2TMQuUDC\" href=\"https://www.bandsintown.com/?genre_filter=Pop\"><div class=\"bCVP2tiWtU3PfY8pM8IDL\"><img alt=\"\" src=\"https://assets.bandsintown.com/images/radioUnchecked.svg\"/></div><div class=\"_18w8ToBS0GLecwf2qrsbSx\">Pop</div></a>,\n",
       " <a class=\"_1oxPWjDV0hUKMX2TMQuUDC\" href=\"https://www.bandsintown.com/?genre_filter=Punk\"><div class=\"bCVP2tiWtU3PfY8pM8IDL\"><img alt=\"\" src=\"https://assets.bandsintown.com/images/radioUnchecked.svg\"/></div><div class=\"_18w8ToBS0GLecwf2qrsbSx\">Punk</div></a>,\n",
       " <a class=\"_1oxPWjDV0hUKMX2TMQuUDC\" href=\"https://www.bandsintown.com/?genre_filter=R%26B%2FSoul\"><div class=\"bCVP2tiWtU3PfY8pM8IDL\"><img alt=\"\" src=\"https://assets.bandsintown.com/images/radioUnchecked.svg\"/></div><div class=\"_18w8ToBS0GLecwf2qrsbSx\">R&amp;B/Soul</div></a>,\n",
       " <a class=\"_1oxPWjDV0hUKMX2TMQuUDC\" href=\"https://www.bandsintown.com/?genre_filter=Reggae\"><div class=\"bCVP2tiWtU3PfY8pM8IDL\"><img alt=\"\" src=\"https://assets.bandsintown.com/images/radioUnchecked.svg\"/></div><div class=\"_18w8ToBS0GLecwf2qrsbSx\">Reggae</div></a>,\n",
       " <a class=\"_1oxPWjDV0hUKMX2TMQuUDC\" href=\"https://www.bandsintown.com/?genre_filter=Rock\"><div class=\"bCVP2tiWtU3PfY8pM8IDL\"><img alt=\"\" src=\"https://assets.bandsintown.com/images/radioUnchecked.svg\"/></div><div class=\"_18w8ToBS0GLecwf2qrsbSx\">Rock</div></a>,\n",
       " <a class=\"wMW18-bLOw8UjSNZoKlqA\" href=\"https://www.bandsintown.com/\"><div class=\"_19_RfzeOFNomv6_ALnt3qG\"><img alt=\"\" src=\"https://assets.bandsintown.com/images/radioChecked.svg\"/></div><div class=\"_16bjd3SootAdNUS1rmXxpP\">Date of Event</div></a>,\n",
       " <a class=\"wMW18-bLOw8UjSNZoKlqA\" href=\"https://www.bandsintown.com/?sort_by_filter=Date+of+Announcement\"><div class=\"_19_RfzeOFNomv6_ALnt3qG\"><img alt=\"\" src=\"https://assets.bandsintown.com/images/radioUnchecked.svg\"/></div><div class=\"_16bjd3SootAdNUS1rmXxpP\">Date of Announcement</div></a>,\n",
       " <a class=\"wMW18-bLOw8UjSNZoKlqA\" href=\"https://www.bandsintown.com/?sort_by_filter=Date+of+Tickets+On+Sale\"><div class=\"_19_RfzeOFNomv6_ALnt3qG\"><img alt=\"\" src=\"https://assets.bandsintown.com/images/radioUnchecked.svg\"/></div><div class=\"_16bjd3SootAdNUS1rmXxpP\">Date of Tickets On Sale</div></a>,\n",
       " <a class=\"wMW18-bLOw8UjSNZoKlqA\" href=\"https://www.bandsintown.com/?sort_by_filter=Number+of+RSVPs\"><div class=\"_19_RfzeOFNomv6_ALnt3qG\"><img alt=\"\" src=\"https://assets.bandsintown.com/images/radioUnchecked.svg\"/></div><div class=\"_16bjd3SootAdNUS1rmXxpP\">Number of RSVPs</div></a>,\n",
       " <a class=\"dRStsjdjwGh-9oVn0Cn6A\" href=\"https://www.bandsintown.com/\"><div class=\"_3FrrV6iUIPCvFPKguR0ED5\"><img alt=\"\" src=\"https://assets.bandsintown.com/images/radioUnchecked.svg\"/></div><div class=\"_3x30BIWWEWRLnb0DE3NmJs\">Concerts &amp; Livestreams</div></a>,\n",
       " <a class=\"dRStsjdjwGh-9oVn0Cn6A\" href=\"https://www.bandsintown.com/?livestream=true\"><div class=\"_3FrrV6iUIPCvFPKguR0ED5\"><img alt=\"\" src=\"https://assets.bandsintown.com/images/radioUnchecked.svg\"/></div><div class=\"_3x30BIWWEWRLnb0DE3NmJs\">Livestreams</div></a>,\n",
       " <a class=\"_3UX9sLQPbNUbfbaigy35li\" href=\"https://www.bandsintown.com/e/102119169-black-pool-at-soma?came_from=257&amp;utm_medium=web&amp;utm_source=home&amp;utm_campaign=event\"></a>,\n",
       " <a href=\"https://www.bandsintown.com/a/1015120-black-pool?came_from=257&amp;utm_medium=web&amp;utm_source=home&amp;utm_campaign=event\">Black Pool</a>,\n",
       " <a class=\"_3UX9sLQPbNUbfbaigy35li\" href=\"https://www.bandsintown.com/e/102025858-little-stranger-at-house-of-blues-san-diego?came_from=257&amp;utm_medium=web&amp;utm_source=home&amp;utm_campaign=event\"></a>,\n",
       " <a href=\"https://www.bandsintown.com/a/2286226-little-stranger?came_from=257&amp;utm_medium=web&amp;utm_source=home&amp;utm_campaign=event\">Little Stranger</a>,\n",
       " <a class=\"_3UX9sLQPbNUbfbaigy35li\" href=\"https://www.bandsintown.com/e/102097644-christopher-hollyday-at-japanese-friendship-garden?came_from=257&amp;utm_medium=web&amp;utm_source=home&amp;utm_campaign=event\"></a>,\n",
       " <a href=\"https://www.bandsintown.com/a/699547-christopher-hollyday?came_from=257&amp;utm_medium=web&amp;utm_source=home&amp;utm_campaign=event\">Christopher Hollyday</a>,\n",
       " <a class=\"_3UX9sLQPbNUbfbaigy35li\" href=\"https://www.bandsintown.com/e/102082581-seun-anikulapo-kuti-at-belly-up-tavern?came_from=257&amp;utm_medium=web&amp;utm_source=home&amp;utm_campaign=event\"></a>,\n",
       " <a href=\"https://www.bandsintown.com/a/1324738-seun-anikulapo-kuti?came_from=257&amp;utm_medium=web&amp;utm_source=home&amp;utm_campaign=event\">Seun Anikulapo Kuti</a>,\n",
       " <a class=\"_3UX9sLQPbNUbfbaigy35li\" href=\"https://www.bandsintown.com/e/102133449-adelitas-way-at-ramona-mainstage?came_from=257&amp;utm_medium=web&amp;utm_source=home&amp;utm_campaign=event\"></a>,\n",
       " <a href=\"https://www.bandsintown.com/a/145023-adelitas-way?came_from=257&amp;utm_medium=web&amp;utm_source=home&amp;utm_campaign=event\">Adelitas Way</a>,\n",
       " <a class=\"_3UX9sLQPbNUbfbaigy35li\" href=\"https://www.bandsintown.com/e/102158189-him-+-her-worship-at-reformation-lutheran-school?came_from=257&amp;utm_medium=web&amp;utm_source=home&amp;utm_campaign=event\"></a>,\n",
       " <a href=\"https://www.bandsintown.com/a/15382157-him-+-her-worship?came_from=257&amp;utm_medium=web&amp;utm_source=home&amp;utm_campaign=event\">Him + Her Worship</a>,\n",
       " <a class=\"_3UX9sLQPbNUbfbaigy35li\" href=\"https://www.bandsintown.com/e/102221009-payton-howie-at-live-stream?came_from=257&amp;utm_medium=web&amp;utm_source=home&amp;utm_campaign=event\"></a>,\n",
       " <a href=\"https://www.bandsintown.com/a/15376640-payton-howie?came_from=257&amp;utm_medium=web&amp;utm_source=home&amp;utm_campaign=event\">Payton Howie</a>,\n",
       " <a class=\"_3UX9sLQPbNUbfbaigy35li\" href=\"https://www.bandsintown.com/e/102169772-colleen-green-at-the-che-cafe?came_from=257&amp;utm_medium=web&amp;utm_source=home&amp;utm_campaign=event\"></a>,\n",
       " <a href=\"https://www.bandsintown.com/a/1081420-colleen-green?came_from=257&amp;utm_medium=web&amp;utm_source=home&amp;utm_campaign=event\">Colleen Green</a>,\n",
       " <a class=\"_3UX9sLQPbNUbfbaigy35li\" href=\"https://www.bandsintown.com/e/102180458-shane-gillis-at-the-american-comedy-co.?came_from=257&amp;utm_medium=web&amp;utm_source=home&amp;utm_campaign=event\"></a>,\n",
       " <a href=\"https://www.bandsintown.com/a/1882240-shane-gillis?came_from=257&amp;utm_medium=web&amp;utm_source=home&amp;utm_campaign=event\">Shane Gillis</a>,\n",
       " <a class=\"_3UX9sLQPbNUbfbaigy35li\" href=\"https://www.bandsintown.com/e/101919337-chad-lefkowitz-brown-at-california-center-for-the-arts?came_from=257&amp;utm_medium=web&amp;utm_source=home&amp;utm_campaign=event\"></a>,\n",
       " <a href=\"https://www.bandsintown.com/a/3102678-chad-lefkowitz-brown?came_from=257&amp;utm_medium=web&amp;utm_source=home&amp;utm_campaign=event\">Chad Lefkowitz-Brown</a>,\n",
       " <a class=\"_3UX9sLQPbNUbfbaigy35li\" href=\"https://www.bandsintown.com/e/1018630814-robert-cray-at-coach-house-concert-hall?came_from=257&amp;utm_medium=web&amp;utm_source=home&amp;utm_campaign=event\"></a>,\n",
       " <a href=\"https://www.bandsintown.com/a/10388-robert-cray?came_from=257&amp;utm_medium=web&amp;utm_source=home&amp;utm_campaign=event\">Robert Cray</a>,\n",
       " <a class=\"_3UX9sLQPbNUbfbaigy35li\" href=\"https://www.bandsintown.com/e/101906159-big-jay-oakerson-at-the-american-comedy-co.?came_from=257&amp;utm_medium=web&amp;utm_source=home&amp;utm_campaign=event\"></a>,\n",
       " <a href=\"https://www.bandsintown.com/a/785939-big-jay-oakerson?came_from=257&amp;utm_medium=web&amp;utm_source=home&amp;utm_campaign=event\">Big Jay Oakerson</a>,\n",
       " <a class=\"_3UX9sLQPbNUbfbaigy35li\" href=\"https://www.bandsintown.com/e/102016987-bonneville-7-at-the-rabbit-hole?came_from=257&amp;utm_medium=web&amp;utm_source=home&amp;utm_campaign=event\"></a>,\n",
       " <a href=\"https://www.bandsintown.com/a/14791585-bonneville-7?came_from=257&amp;utm_medium=web&amp;utm_source=home&amp;utm_campaign=event\">Bonneville 7</a>,\n",
       " <a class=\"_3UX9sLQPbNUbfbaigy35li\" href=\"https://www.bandsintown.com/e/102025576-rdgldgrn-at-house-of-blues-san-diego?came_from=257&amp;utm_medium=web&amp;utm_source=home&amp;utm_campaign=event\"></a>,\n",
       " <a href=\"https://www.bandsintown.com/a/2129322-rdgldgrn?came_from=257&amp;utm_medium=web&amp;utm_source=home&amp;utm_campaign=event\">RDGLDGRN</a>,\n",
       " <a class=\"_3UX9sLQPbNUbfbaigy35li\" href=\"https://www.bandsintown.com/e/102137260-sheila-sondergard-(sheson)-at-metl-bar-and-restaurant?came_from=257&amp;utm_medium=web&amp;utm_source=home&amp;utm_campaign=event\"></a>,\n",
       " <a href=\"https://www.bandsintown.com/a/1918159-sheila-sondergard-(sheson)?came_from=257&amp;utm_medium=web&amp;utm_source=home&amp;utm_campaign=event\">Sheila Sondergard (ShesOn)</a>,\n",
       " <a class=\"_3UX9sLQPbNUbfbaigy35li\" href=\"https://www.bandsintown.com/e/102222319-speaker-honey-at-live-stream?came_from=257&amp;utm_medium=web&amp;utm_source=home&amp;utm_campaign=event\"></a>,\n",
       " <a href=\"https://www.bandsintown.com/a/12731090-speaker-honey?came_from=257&amp;utm_medium=web&amp;utm_source=home&amp;utm_campaign=event\">Speaker Honey</a>,\n",
       " <a class=\"_3UX9sLQPbNUbfbaigy35li\" href=\"https://www.bandsintown.com/e/102190394-tim-apple-at-hotel-del-coronado-curio-collection-by-hilton?came_from=257&amp;utm_medium=web&amp;utm_source=home&amp;utm_campaign=event\"></a>,\n",
       " <a href=\"https://www.bandsintown.com/a/8665595-tim-apple?came_from=257&amp;utm_medium=web&amp;utm_source=home&amp;utm_campaign=event\">Tim Apple</a>,\n",
       " <a class=\"_3UX9sLQPbNUbfbaigy35li\" href=\"https://www.bandsintown.com/e/102224327-r.o.-shapiro-at-live-stream?came_from=257&amp;utm_medium=web&amp;utm_source=home&amp;utm_campaign=event\"></a>,\n",
       " <a href=\"https://www.bandsintown.com/a/15365051-r.o.-shapiro?came_from=257&amp;utm_medium=web&amp;utm_source=home&amp;utm_campaign=event\">R.O. Shapiro</a>,\n",
       " <a class=\"y2-i4ZaExlkBcTf0joWJ3\" href=\"https://corp.bandsintown.com\">About</a>,\n",
       " <a class=\"y2-i4ZaExlkBcTf0joWJ3\" href=\"https://www.bandsintown.com/cities?came_from=257\">Cities</a>,\n",
       " <a class=\"y2-i4ZaExlkBcTf0joWJ3\" href=\"https://artists.bandsintown.com\">Artists</a>,\n",
       " <a class=\"y2-i4ZaExlkBcTf0joWJ3\" href=\"https://news.bandsintown.com\">News</a>,\n",
       " <a class=\"y2-i4ZaExlkBcTf0joWJ3\" href=\"https://news.bandsintown.com/charts\">Charts</a>,\n",
       " <a class=\"y2-i4ZaExlkBcTf0joWJ3\" href=\"https://help.bandsintown.com/\">Help</a>,\n",
       " <a class=\"_11BcliKZo68bWhyX30fA2C\" href=\"https://www.bandsintown.com/?came_from=257\"><svg alt=\"Bandsintown\" class=\"_1htSHmlsXjx-NEno4IvY7s\" height=\"30\" viewbox=\"0 0 201 30\" width=\"201\" xmlns=\"http://www.w3.org/2000/svg\"><g fill=\"#000000\" fill-rule=\"evenodd\"><path d=\"M46.73 18.445c0-2.648-1.682-4.513-4.262-4.513-2.581 0-4.262 1.865-4.262 4.513 0 2.648 1.68 4.514 4.262 4.514 2.58 0 4.261-1.866 4.261-4.514zm-8.495 4.978h-.06v2.085h-2.952V4.045h2.952v9.382h.06c.874-1.533 2.41-2.545 4.7-2.545 3.674 0 6.777 2.82 6.777 7.543 0 4.722-3.103 7.543-6.778 7.543-2.289 0-3.825-1.012-4.699-2.545zm13.608-4.978c0-4.71 3.103-7.523 6.778-7.523 2.29 0 3.826 1.01 4.7 2.538h.06v-2.08h2.952v14.13H63.38v-2.08h-.06c-.874 1.529-2.41 2.538-4.7 2.538-3.675 0-6.778-2.813-6.778-7.523zm11.933 0c0-2.648-1.681-4.513-4.262-4.513-2.581 0-4.262 1.865-4.262 4.513 0 2.648 1.68 4.514 4.262 4.514 2.58 0 4.262-1.866 4.262-4.514zm19.177-1.61v8.703h-2.948v-8.181c0-2.42-1.203-3.432-3.189-3.432-2.165 0-3.7 1.318-3.7 4.841v6.772h-2.948V11.382h2.948v2.145h.06c.903-1.624 2.407-2.605 4.543-2.605 2.978 0 5.234 1.624 5.234 5.914zm2.983 1.59c0-4.722 3.103-7.543 6.778-7.543 2.29 0 3.826 1.012 4.7 2.545h.06V4.045h2.952v21.463h-2.952v-2.085h-.06c-.874 1.533-2.41 2.545-4.7 2.545-3.675 0-6.778-2.821-6.778-7.543zm11.933.02c0-2.648-1.681-4.513-4.262-4.513-2.581 0-4.262 1.865-4.262 4.513 0 2.648 1.68 4.514 4.262 4.514 2.58 0 4.262-1.866 4.262-4.514zm5.114 6.024l1.325-2.66c1.294.764 2.77 1.345 4.425 1.345 1.416 0 2.168-.428 2.168-1.314 0-.581-.3-1.01-1.475-1.59l-2.529-1.255c-2.108-1.009-2.92-2.446-2.92-4.066 0-2.6 1.896-4.007 4.937-4.007 1.596 0 3.342.428 4.818 1.102l-1.205 2.599c-1.054-.46-2.348-.918-3.703-.918-1.295 0-1.716.429-1.716 1.07 0 .673.391 1.102 1.595 1.682l2.59 1.254c1.806.856 2.77 2.08 2.77 3.976 0 2.874-2.168 4.28-5.42 4.28-1.987 0-4.064-.55-5.66-1.498zm14.063 1.069V11.352h2.983v14.186h-2.983zm19.603-8.702v8.702h-2.948v-8.181c0-2.42-1.203-3.432-3.188-3.432-2.166 0-3.7 1.318-3.7 4.841v6.772h-2.948V11.382h2.947v2.145h.06c.904-1.624 2.407-2.605 4.544-2.605 2.978 0 5.233 1.624 5.233 5.914zm7.45-2.894v7.385c0 1.007.414 1.465 1.419 1.465h.709v2.746h-1.33c-2.393 0-3.694-1.312-3.694-3.631v-7.965h-2.423v-2.533h2.423V5.764h2.896v5.645h2.778v2.533H144.1zm19.399 4.503c0 4.343-3.275 7.523-7.67 7.523-4.398 0-7.672-3.18-7.672-7.523 0-4.342 3.274-7.523 7.671-7.523 4.396 0 7.67 3.18 7.67 7.523zm-11.933 0c0 2.738 1.832 4.514 4.475 4.514s4.475-1.776 4.475-4.514c0-2.738-1.832-4.513-4.475-4.513s-4.475 1.775-4.475 4.513zm34.093-7.093l-4.645 14.186h-2.697l-3.297-10.163-3.326 10.163h-2.698l-4.645-14.186h3.237l2.787 10.225 3.207-10.225h2.846l3.207 10.225 2.788-10.225h3.236zM201 16.836v8.702h-2.948v-8.181c0-2.42-1.203-3.432-3.189-3.432-2.166 0-3.7 1.318-3.7 4.841v6.772h-2.948V11.382h2.948v2.145h.06c.903-1.624 2.407-2.605 4.543-2.605 2.978 0 5.234 1.624 5.234 5.914zM120.881 6.194a2.14 2.14 0 0 1-2.13 2.15 2.14 2.14 0 0 1-2.131-2.15 2.14 2.14 0 0 1 2.13-2.15 2.14 2.14 0 0 1 2.131 2.15zM5.743 0v24.194H22.97v-1.936H7.657v-5.806h21.057V30H0V0h5.743zm22.971 0v14.516h-5.743V0h5.743zm-7.657 6.774v7.742h-5.743V6.774h5.743zm-7.657 0v7.742H7.657V6.774H13.4z\"></path></g></svg></a>,\n",
       " <a class=\"_3Cdw5GgJtk-SZG5UN38eKN\" href=\"https://corp.bandsintown.com/terms\">Terms of Use<!-- --> <span class=\"w2JLNdNFNIhJPexDNRiIa\">|</span></a>,\n",
       " <a class=\"_3Cdw5GgJtk-SZG5UN38eKN\" href=\"https://corp.bandsintown.com/privacy\">Privacy Policy<!-- --> <span class=\"w2JLNdNFNIhJPexDNRiIa\">|</span></a>,\n",
       " <a class=\"_3Cdw5GgJtk-SZG5UN38eKN\" href=\"https://corp.bandsintown.com/cookie-policy\">Cookie Policy</a>,\n",
       " <a class=\"_3Cdw5GgJtk-SZG5UN38eKN\" href=\"https://bandsintown.com/privacy_request\">GDPR/CCPA Privacy Request<!-- --> <span class=\"w2JLNdNFNIhJPexDNRiIa\">|</span></a>,\n",
       " <a href=\"https://live.bandsintown.com\"><img alt=\"Social Media Link\" class=\"_3fpsDiVoiF_HsPH_q_eLEW\" src=\"https://assets.bandsintown.com/images/twitch.svg\"/></a>,\n",
       " <a href=\"https://instagram.com/bandsintown\"><img alt=\"Social Media Link\" class=\"_3fpsDiVoiF_HsPH_q_eLEW\" src=\"https://assets.bandsintown.com/images/instagram.svg\"/></a>,\n",
       " <a href=\"https://www.twitter.com/bandsintown\"><img alt=\"Social Media Link\" class=\"_3fpsDiVoiF_HsPH_q_eLEW\" src=\"https://assets.bandsintown.com/images/twitter.svg\"/></a>,\n",
       " <a href=\"https://www.facebook.com/bandsintown\"><img alt=\"Social Media Link\" class=\"_3fpsDiVoiF_HsPH_q_eLEW\" src=\"https://assets.bandsintown.com/images/facebook.svg\"/></a>]"
      ]
     },
     "execution_count": 25,
     "metadata": {},
     "output_type": "execute_result"
    }
   ],
   "source": [
    "# make soup outta that website!\n",
    "\n",
    "soup.findAll('a')"
   ]
  },
  {
   "cell_type": "code",
   "execution_count": 26,
   "metadata": {},
   "outputs": [
    {
     "data": {
      "text/plain": [
       "<a class=\"_3UX9sLQPbNUbfbaigy35li\" href=\"https://www.bandsintown.com/e/102119169-black-pool-at-soma?came_from=257&amp;utm_medium=web&amp;utm_source=home&amp;utm_campaign=event\"></a>"
      ]
     },
     "execution_count": 26,
     "metadata": {},
     "output_type": "execute_result"
    }
   ],
   "source": [
    "# find and inspect first elemnt from 'event's near' info from bottoom of website\n",
    "\n",
    "event_urls = soup.findAll('a', '_3UX9sLQPbNUbfbaigy35li')\n",
    "\n",
    "event_urls[0]\n"
   ]
  },
  {
   "cell_type": "code",
   "execution_count": 27,
   "metadata": {},
   "outputs": [
    {
     "name": "stdout",
     "output_type": "stream",
     "text": [
      "['href=\"https://www.bandsintown.com/e/102119169-black-pool-at', 'href=\"https://www.bandsintown.com/e/102025858-little-stranger-at', 'href=\"https://www.bandsintown.com/e/102097644-christopher-hollyday-at', 'href=\"https://www.bandsintown.com/e/102082581-seun-anikulapo-kuti-at', 'href=\"https://www.bandsintown.com/e/102133449-adelitas-way-at', 'href=\"https://www.bandsintown.com/e/102158189-him-+-her-worship-at', 'href=\"https://www.bandsintown.com/e/102221009-payton-howie-at', 'href=\"https://www.bandsintown.com/e/102169772-colleen-green-at', 'href=\"https://www.bandsintown.com/e/102180458-shane-gillis-at', 'href=\"https://www.bandsintown.com/e/101919337-chad-lefkowitz-brown-at', 'href=\"https://www.bandsintown.com/e/1018630814-robert-cray-at', 'href=\"https://www.bandsintown.com/e/101906159-big-jay-oakerson-at', 'href=\"https://www.bandsintown.com/e/102016987-bonneville-7-at', 'href=\"https://www.bandsintown.com/e/102025576-rdgldgrn-at', 'href=\"https://www.bandsintown.com/e/102137260-sheila-sondergard-(sheson)-at', 'href=\"https://www.bandsintown.com/e/102222319-speaker-honey-at', 'href=\"https://www.bandsintown.com/e/102190394-tim-apple-at', 'href=\"https://www.bandsintown.com/e/102224327-r.o.-shapiro-at']\n"
     ]
    }
   ],
   "source": [
    "# grab the 'event's near' info from bottom of website\n",
    "\n",
    "pattern = re.compile(r\"\\b\\S*-at\\b\")\n",
    "\n",
    "reg_list = re.findall(pattern , str(event_urls))\n",
    "\n",
    "print(reg_list)"
   ]
  },
  {
   "cell_type": "code",
   "execution_count": 28,
   "metadata": {},
   "outputs": [
    {
     "data": {
      "text/plain": [
       "['href=\"https://www.bandsintown.com/e/102119169 black pool',\n",
       " 'href=\"https://www.bandsintown.com/e/102025858 little stranger',\n",
       " 'href=\"https://www.bandsintown.com/e/102097644 christopher hollyday',\n",
       " 'href=\"https://www.bandsintown.com/e/102082581 seun anikulapo kuti',\n",
       " 'href=\"https://www.bandsintown.com/e/102133449 adelitas way',\n",
       " 'href=\"https://www.bandsintown.com/e/102158189 him + her worship',\n",
       " 'href=\"https://www.bandsintown.com/e/102221009 payton howie',\n",
       " 'href=\"https://www.bandsintown.com/e/102169772 colleen green',\n",
       " 'href=\"https://www.bandsintown.com/e/102180458 shane gillis',\n",
       " 'href=\"https://www.bandsintown.com/e/101919337 chad lefkowitz brown',\n",
       " 'href=\"https://www.bandsintown.com/e/1018630814 robert cray',\n",
       " 'href=\"https://www.bandsintown.com/e/101906159 big jay oakerson',\n",
       " 'href=\"https://www.bandsintown.com/e/102016987 bonneville 7',\n",
       " 'href=\"https://www.bandsintown.com/e/102025576 rdgldgrn',\n",
       " 'href=\"https://www.bandsintown.com/e/102137260 sheila sondergard (sheson)',\n",
       " 'href=\"https://www.bandsintown.com/e/102222319 speaker honey',\n",
       " 'href=\"https://www.bandsintown.com/e/102190394 tim apple',\n",
       " 'href=\"https://www.bandsintown.com/e/102224327 r.o. shapiro']"
      ]
     },
     "execution_count": 28,
     "metadata": {},
     "output_type": "execute_result"
    }
   ],
   "source": [
    "# select the link from the original grab\n",
    "\n",
    "for i, b in enumerate(reg_list) :\n",
    "\n",
    "    reg_list[i] = b.replace('-at','').replace('-', ' ')\n",
    "    \n",
    "reg_list"
   ]
  },
  {
   "cell_type": "code",
   "execution_count": 29,
   "metadata": {},
   "outputs": [
    {
     "data": {
      "text/plain": [
       "[['black pool'],\n",
       " ['little stranger'],\n",
       " ['christopher hollyday'],\n",
       " ['seun anikulapo kuti'],\n",
       " ['adelitas way'],\n",
       " ['him + her worship'],\n",
       " ['payton howie'],\n",
       " ['colleen green'],\n",
       " ['shane gillis'],\n",
       " ['chad lefkowitz brown'],\n",
       " ['robert cray'],\n",
       " ['big jay oakerson'],\n",
       " ['bonneville 7'],\n",
       " ['rdgldgrn'],\n",
       " ['sheila sondergard (sheson)'],\n",
       " ['speaker honey'],\n",
       " ['tim apple'],\n",
       " ['r.o. shapiro']]"
      ]
     },
     "execution_count": 29,
     "metadata": {},
     "output_type": "execute_result"
    }
   ],
   "source": [
    "# select the band name after the space \n",
    "# this should work even for bands that start with numbers!\n",
    "\n",
    "pattern = re.compile(r\"\\s(.*)\")\n",
    "\n",
    "for i, b in enumerate(reg_list):\n",
    "    \n",
    "    reg_list[i] = re.findall(pattern, str(b))\n",
    "\n",
    "reg_list    "
   ]
  },
  {
   "cell_type": "code",
   "execution_count": 30,
   "metadata": {},
   "outputs": [
    {
     "data": {
      "text/plain": [
       "['black pool',\n",
       " 'little stranger',\n",
       " 'christopher hollyday',\n",
       " 'seun anikulapo kuti',\n",
       " 'adelitas way',\n",
       " 'him + her worship',\n",
       " 'payton howie',\n",
       " 'colleen green',\n",
       " 'shane gillis',\n",
       " 'chad lefkowitz brown',\n",
       " 'robert cray',\n",
       " 'big jay oakerson',\n",
       " 'bonneville 7',\n",
       " 'rdgldgrn',\n",
       " 'sheila sondergard (sheson)',\n",
       " 'speaker honey',\n",
       " 'tim apple',\n",
       " 'r.o. shapiro']"
      ]
     },
     "execution_count": 30,
     "metadata": {},
     "output_type": "execute_result"
    }
   ],
   "source": [
    "# get rid of parentheses and commas (and nested lists by default)\n",
    "\n",
    "for i, b in enumerate(reg_list) :\n",
    "\n",
    "    reg_list[i] = b[0].replace(\"'\",'').replace(',', '')\n",
    "    \n",
    "reg_list"
   ]
  },
  {
   "cell_type": "code",
   "execution_count": 31,
   "metadata": {},
   "outputs": [
    {
     "data": {
      "text/plain": [
       "['payton howie',\n",
       " 'christopher hollyday',\n",
       " 'tim apple',\n",
       " 'r.o. shapiro',\n",
       " 'robert cray',\n",
       " 'little stranger',\n",
       " 'seun anikulapo kuti',\n",
       " 'him + her worship',\n",
       " 'big jay oakerson',\n",
       " 'rdgldgrn',\n",
       " 'chad lefkowitz brown',\n",
       " 'sheila sondergard (sheson)',\n",
       " 'adelitas way',\n",
       " 'colleen green',\n",
       " 'bonneville 7',\n",
       " 'black pool',\n",
       " 'speaker honey',\n",
       " 'shane gillis']"
      ]
     },
     "execution_count": 31,
     "metadata": {},
     "output_type": "execute_result"
    }
   ],
   "source": [
    "# drop duplicates by using a set\n",
    "\n",
    "band_list = list(set(reg_list))\n",
    "\n",
    "band_list"
   ]
  },
  {
   "cell_type": "code",
   "execution_count": 32,
   "metadata": {},
   "outputs": [],
   "source": [
    "client_id = ''\n",
    "    \n",
    "client_secret = ''\n",
    "\n",
    "username = ''\n",
    "\n",
    "scope = ''\n",
    "\n",
    "redirect_uri = ''"
   ]
  },
  {
   "cell_type": "code",
   "execution_count": 33,
   "metadata": {},
   "outputs": [],
   "source": [
    "token = util.prompt_for_user_token(username, scope,\n",
    "                                   client_id=client_id,\n",
    "                                   client_secret=client_secret,\n",
    "                                   redirect_uri=redirect_uri) \n",
    "\n",
    "sp = spotipy.Spotify(auth=token)"
   ]
  },
  {
   "cell_type": "code",
   "execution_count": 34,
   "metadata": {},
   "outputs": [],
   "source": [
    "playlist_name = 'Upcoming Local Shows Playlist'   \n",
    "\n",
    "description = 'Here are some hot songs from artists that will be playing in the area soon!'\n",
    "\n",
    "playlist = sp.user_playlist_create(username, name=playlist_name, description=description )\n"
   ]
  },
  {
   "cell_type": "code",
   "execution_count": 35,
   "metadata": {},
   "outputs": [],
   "source": [
    "def grab_track_ids(band_list):\n",
    "    \n",
    "    \n",
    "    track_ids = []\n",
    "    \n",
    "    \n",
    "    for i in range(len(band_list)):\n",
    "        \n",
    "        results = sp.search(q=f\"{band_list[i]}\", limit=3, type='track') \n",
    "        \n",
    "        if results['tracks']['total'] == 0: \n",
    "            \n",
    "            continue\n",
    "        \n",
    "        else:\n",
    "            \n",
    "            for j in range(len(results['tracks']['items'])):\n",
    "                \n",
    "                if fuzz.partial_ratio(results['tracks']['items'][j]['artists'][0]['name'], band_list[i]) > 60: \n",
    "                    \n",
    "                    track_ids.append(results['tracks']['items'][j]['id']) \n",
    "\n",
    "                \n",
    "                else:\n",
    "                    continue\n",
    "  \n",
    "    print(\"Gottem!\")\n",
    "    \n",
    "    return track_ids"
   ]
  },
  {
   "cell_type": "code",
   "execution_count": 36,
   "metadata": {},
   "outputs": [
    {
     "name": "stdout",
     "output_type": "stream",
     "text": [
      "Gottem!\n"
     ]
    },
    {
     "data": {
      "text/plain": [
       "['4JndhJccdHJUYPjdMUTeY1',\n",
       " '1H3TIcL6kCOwqR8wjqs6Ii',\n",
       " '7kZ0rM9Lp0Ib7rPF7XebNM',\n",
       " '34zN49oCGAEvMiI521JNm8',\n",
       " '7FrB7HSdPIpLp5CCCk1GzV',\n",
       " '0PNl2I8v2yK0dWbk1kb1WY',\n",
       " '4hprs9pNIAnazIOHyoimon',\n",
       " '5tRu8kA4d17uwGVT7I3YIR',\n",
       " '23YyyUiEZYlT3MkzpZhRbW',\n",
       " '51R3YhOIXXaCPcvdB9k21j',\n",
       " '7rKSR3gY70SH8AM8fswBge',\n",
       " '79ZN5n4pQfYf3DPGoOD0Tq',\n",
       " '3ZDzVMZoFTx1gMbQszGy6d',\n",
       " '2ZVvoSR6j0uzAOHEYhp9VR',\n",
       " '74nLzZ6fimLWkBvzX1JuEV',\n",
       " '3P1Y9RIYsMk87Kdmt7hQtO',\n",
       " '2WCNV7XBKv5P58Y7tprWF0',\n",
       " '2DeBp0xumahsCVdRfBgQvQ',\n",
       " '5kg4zCCt0oRJpZT2TR8DUG',\n",
       " '2Scp56JqNUByjPLq34AyGw',\n",
       " '7pP64UgtXGch0blNm5dIwB',\n",
       " '4xilOU0GV1EadnoFQKp20R',\n",
       " '5PZo9NMyNLxOlpEFoYo611',\n",
       " '4FthwGFz9SVZgCVqxNXsSK',\n",
       " '5f7CQQlWscLYxkdzaKWx5Q',\n",
       " '6iL0iOBkAUtKuCAo2ynYyh',\n",
       " '5pSd6GLg6xIPTGLitMrF6n',\n",
       " '6c1T4m4RcD1RMF7ROmcbh2',\n",
       " '4f1MOhX1eEls7hVsEEPKIO',\n",
       " '5SrfclddwYE4JkwY8UqF7H',\n",
       " '448etSVdv1hrsZyVnd4d3S',\n",
       " '1klF0nbl8zZPK822jNmLTB']"
      ]
     },
     "execution_count": 36,
     "metadata": {},
     "output_type": "execute_result"
    }
   ],
   "source": [
    "track_ids = grab_track_ids(band_list)\n",
    "\n",
    "track_ids"
   ]
  },
  {
   "cell_type": "code",
   "execution_count": 37,
   "metadata": {},
   "outputs": [
    {
     "data": {
      "text/plain": [
       "'0xEIJXZz1MCFtvBepSxS8f'"
      ]
     },
     "execution_count": 37,
     "metadata": {},
     "output_type": "execute_result"
    }
   ],
   "source": [
    "playlist_id = playlist['id']\n",
    "\n",
    "playlist_id"
   ]
  },
  {
   "cell_type": "code",
   "execution_count": 38,
   "metadata": {},
   "outputs": [
    {
     "data": {
      "text/plain": [
       "{'snapshot_id': 'Myw3ZGVhODAwYTQ3YjJmOWQyNzcxMGViNTNiZDA5OWU3ODg1YTQ5M2Qy'}"
      ]
     },
     "execution_count": 38,
     "metadata": {},
     "output_type": "execute_result"
    }
   ],
   "source": [
    "sp.user_playlist_add_tracks(username, playlist_id, track_ids)"
   ]
  },
  {
   "cell_type": "code",
   "execution_count": null,
   "metadata": {},
   "outputs": [],
   "source": []
  },
  {
   "cell_type": "code",
   "execution_count": null,
   "metadata": {},
   "outputs": [],
   "source": [
    "\n"
   ]
  },
  {
   "cell_type": "code",
   "execution_count": null,
   "metadata": {},
   "outputs": [],
   "source": [
    "\n",
    "\n"
   ]
  },
  {
   "cell_type": "code",
   "execution_count": null,
   "metadata": {},
   "outputs": [],
   "source": []
  },
  {
   "cell_type": "code",
   "execution_count": null,
   "metadata": {},
   "outputs": [],
   "source": []
  },
  {
   "cell_type": "code",
   "execution_count": null,
   "metadata": {},
   "outputs": [],
   "source": []
  }
 ],
 "metadata": {
  "kernelspec": {
   "display_name": "Python 3",
   "language": "python",
   "name": "python3"
  },
  "language_info": {
   "codemirror_mode": {
    "name": "ipython",
    "version": 3
   },
   "file_extension": ".py",
   "mimetype": "text/x-python",
   "name": "python",
   "nbconvert_exporter": "python",
   "pygments_lexer": "ipython3",
   "version": "3.7.4"
  }
 },
 "nbformat": 4,
 "nbformat_minor": 4
}
